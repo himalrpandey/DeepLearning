{
  "nbformat": 4,
  "nbformat_minor": 0,
  "metadata": {
    "accelerator": "GPU",
    "colab": {
      "provenance": [],
      "include_colab_link": true
    },
    "kernelspec": {
      "display_name": "Python 3",
      "language": "python",
      "name": "python3"
    },
    "language_info": {
      "codemirror_mode": {
        "name": "ipython",
        "version": 3
      },
      "file_extension": ".py",
      "mimetype": "text/x-python",
      "name": "python",
      "nbconvert_exporter": "python",
      "pygments_lexer": "ipython3",
      "version": "3.6.6"
    }
  },
  "cells": [
    {
      "cell_type": "markdown",
      "metadata": {
        "id": "view-in-github",
        "colab_type": "text"
      },
      "source": [
        "<a href=\"https://colab.research.google.com/github/himalrpandey/DeepLearning/blob/main/Himal_08_1D_CNN_activity_recognition_assessment.ipynb\" target=\"_parent\"><img src=\"https://colab.research.google.com/assets/colab-badge.svg\" alt=\"Open In Colab\"/></a>"
      ]
    },
    {
      "cell_type": "markdown",
      "metadata": {
        "id": "_bkHwspbXK2s"
      },
      "source": [
        "# Copyright\n",
        "<pre>\n",
        "You may use and modify this code for research and development purpuses.\n",
        "Using this code for educational purposes (self-paced or instructor led) without the permission of the author is prohibited.\n",
        "Copyright (c) 2023 Bálint Gyires-Tóth - All Rights Reserved\n",
        "\n",
        "</pre>"
      ]
    },
    {
      "cell_type": "markdown",
      "metadata": {
        "id": "s0kz73yNXK2t"
      },
      "source": [
        "In this notebook, we will classify human activities based on smartphone accelerometer and gyroscope data. The corresponding Human Activity Recognition Using Smartphones Data Set is delivered by UCI Machine Learning Repository, for more information [please visit the site](https://archive.ics.uci.edu/ml/datasets/human+activity+recognition+using+smartphones)."
      ]
    },
    {
      "cell_type": "markdown",
      "source": [
        "## 1. Data acquisition\n",
        "Lets download and unpack the data."
      ],
      "metadata": {
        "id": "zy5lL5OEKvZM"
      }
    },
    {
      "cell_type": "code",
      "source": [
        "!wget https://archive.ics.uci.edu/ml/machine-learning-databases/00240/UCI%20HAR%20Dataset.zip"
      ],
      "metadata": {
        "colab": {
          "base_uri": "https://localhost:8080/"
        },
        "id": "nv5CJEQfKvFT",
        "outputId": "61a6d74e-1fc9-40a7-b959-d279a50baba0"
      },
      "execution_count": 23,
      "outputs": [
        {
          "output_type": "stream",
          "name": "stdout",
          "text": [
            "--2024-04-10 13:11:08--  https://archive.ics.uci.edu/ml/machine-learning-databases/00240/UCI%20HAR%20Dataset.zip\n",
            "Resolving archive.ics.uci.edu (archive.ics.uci.edu)... 128.195.10.252\n",
            "Connecting to archive.ics.uci.edu (archive.ics.uci.edu)|128.195.10.252|:443... connected.\n",
            "HTTP request sent, awaiting response... 200 OK\n",
            "Length: unspecified\n",
            "Saving to: ‘UCI HAR Dataset.zip.1’\n",
            "\n",
            "UCI HAR Dataset.zip     [                <=> ]  58.17M  17.9MB/s    in 4.2s    \n",
            "\n",
            "2024-04-10 13:11:13 (13.8 MB/s) - ‘UCI HAR Dataset.zip.1’ saved [60999314]\n",
            "\n"
          ]
        }
      ]
    },
    {
      "cell_type": "code",
      "source": [
        "!unzip \"UCI HAR Dataset.zip\" > null"
      ],
      "metadata": {
        "id": "9_bgc7Y2GTpy",
        "colab": {
          "base_uri": "https://localhost:8080/"
        },
        "outputId": "79b1d31b-40f4-41b8-d7b5-32d742c1600a"
      },
      "execution_count": 24,
      "outputs": [
        {
          "output_type": "stream",
          "name": "stdout",
          "text": [
            "replace UCI HAR Dataset/.DS_Store? [y]es, [n]o, [A]ll, [N]one, [r]ename: A\n"
          ]
        }
      ]
    },
    {
      "cell_type": "markdown",
      "source": [
        "## 2. Imports\n",
        "In this notebook we will need the following packages."
      ],
      "metadata": {
        "id": "A8IHEttFHzUv"
      }
    },
    {
      "cell_type": "code",
      "metadata": {
        "id": "eWBNCVa0bf65"
      },
      "source": [
        "import numpy as np\n",
        "import pandas as pd\n",
        "from tensorflow.keras.models import Sequential\n",
        "from tensorflow.keras.utils import to_categorical\n",
        "from tensorflow.keras.layers import Activation, Dense, Flatten, Conv1D, MaxPooling1D, Dropout\n",
        "from tensorflow.keras.callbacks import EarlyStopping\n",
        "from tensorflow.keras.optimizers import SGD\n",
        "import matplotlib.pyplot as plt\n",
        "import seaborn as sns"
      ],
      "execution_count": 25,
      "outputs": []
    },
    {
      "cell_type": "markdown",
      "source": [
        "## 3. Loading the data\n",
        "The following functions will load the training and test data from the unpacked dataset."
      ],
      "metadata": {
        "id": "uzBI0j52H_sL"
      }
    },
    {
      "cell_type": "code",
      "source": [
        "# this function loads a single file (input or output)\n",
        "def load_file(filepath):\n",
        "  df = pd.read_csv(filepath, header=None, delim_whitespace=True)\n",
        "  return df.values\n",
        "\n",
        "# this function loads a set of files into a Numpy array with a shape of [samples, timesteps, features]\n",
        "def load_group(filenames, prefix=''):\n",
        "  loaded = list()\n",
        "  for name in filenames:\n",
        "    data = load_file(prefix + name)\n",
        "    loaded.append(data)\n",
        "    # stack group so that features are the 3rd dimension\n",
        "  loaded = np.dstack(loaded)\n",
        "  return loaded\n",
        "\n",
        " # load inputs and outputs from a directory\n",
        "def load_XY(group, path):\n",
        "  filepath = path + group + '/Inertial Signals/'\n",
        "  filenames = list()\n",
        "  filenames += ['total_acc_x_'+group+'.txt', 'total_acc_y_'+group+'.txt', 'total_acc_z_'+group+'.txt'] + \\\n",
        "               ['body_acc_x_'+group+'.txt', 'body_acc_y_'+group+'.txt', 'body_acc_z_'+group+'.txt'] + \\\n",
        "               ['body_gyro_x_'+group+'.txt', 'body_gyro_y_'+group+'.txt', 'body_gyro_z_'+group+'.txt']\n",
        "  # inputs\n",
        "  X = load_group(filenames, filepath)\n",
        "  # output (class)\n",
        "  Y = load_file(path + group + '/y_'+group+'.txt')\n",
        "  return X, Y\n",
        "\n",
        "# load the dataset, returns train and test X and y elements\n",
        "def load_dataset(path='UCI HAR Dataset/'):\n",
        "  # load all train\n",
        "  X_train, Y_train = load_XY('train', path)\n",
        "  X_test,  Y_test  = load_XY('test', path)\n",
        "  Y_train = to_categorical(Y_train - 1 ) # we need -1 to scale the categories between 0..5 (from 1..6)\n",
        "  Y_test  = to_categorical(Y_test - 1 ) # we need -1 to scale the categories between 0..5 (from 1..6)\n",
        "  return X_train, Y_train, X_test, Y_test"
      ],
      "metadata": {
        "id": "1boApy2lLnhT"
      },
      "execution_count": 26,
      "outputs": []
    },
    {
      "cell_type": "code",
      "source": [
        "X_train, Y_train, X_test, Y_test = load_dataset()"
      ],
      "metadata": {
        "id": "l8hh4QYmMMtS"
      },
      "execution_count": 27,
      "outputs": []
    },
    {
      "cell_type": "code",
      "source": [
        "X_train.shape, Y_train.shape, X_test.shape, Y_test.shape"
      ],
      "metadata": {
        "colab": {
          "base_uri": "https://localhost:8080/"
        },
        "id": "Uo97vqf3BwRN",
        "outputId": "37271380-92e1-4700-a879-6036c2f81c72"
      },
      "execution_count": 28,
      "outputs": [
        {
          "output_type": "execute_result",
          "data": {
            "text/plain": [
              "((7352, 128, 9), (7352, 6), (2947, 128, 9), (2947, 6))"
            ]
          },
          "metadata": {},
          "execution_count": 28
        }
      ]
    },
    {
      "cell_type": "code",
      "source": [
        "Y_train[0],"
      ],
      "metadata": {
        "colab": {
          "base_uri": "https://localhost:8080/"
        },
        "id": "qtGQzkLmCKbL",
        "outputId": "c71a11b6-695a-4646-a034-222579955f0c"
      },
      "execution_count": 29,
      "outputs": [
        {
          "output_type": "execute_result",
          "data": {
            "text/plain": [
              "(array([0., 0., 0., 0., 1., 0.], dtype=float32),)"
            ]
          },
          "metadata": {},
          "execution_count": 29
        }
      ]
    },
    {
      "cell_type": "markdown",
      "source": [
        "## 3.1. Data exploration: target variable - exercise 1\n",
        "Let's check how many data instances there are for each class:"
      ],
      "metadata": {
        "id": "Js-7BztvQ7Dd"
      }
    },
    {
      "cell_type": "code",
      "source": [
        "class_counts = Y_train.sum(axis=0)\n",
        "\n",
        "print(\"No. of instance belong to class 0:\", int(class_counts[0]))\n",
        "print(\"No. of instance belong to class 1:\", int(class_counts[1]))\n",
        "print(\"No. of instance belong to class 2:\", int(class_counts[2]))\n",
        "print(\"No. of instance belong to class 3:\", int(class_counts[3]))\n",
        "print(\"No. of instance belong to class 4:\", int(class_counts[4]))\n",
        "print(\"No. of instance belong to class 5:\", int(class_counts[5]))"
      ],
      "metadata": {
        "id": "4PTSOP--jPe_",
        "colab": {
          "base_uri": "https://localhost:8080/"
        },
        "outputId": "99991eb4-801c-478b-95ad-e361dcb0d536"
      },
      "execution_count": 30,
      "outputs": [
        {
          "output_type": "stream",
          "name": "stdout",
          "text": [
            "No. of instance belong to class 0: 1226\n",
            "No. of instance belong to class 1: 1073\n",
            "No. of instance belong to class 2: 986\n",
            "No. of instance belong to class 3: 1286\n",
            "No. of instance belong to class 4: 1374\n",
            "No. of instance belong to class 5: 1407\n"
          ]
        }
      ]
    },
    {
      "cell_type": "markdown",
      "source": [
        "You can doublecheck your calculations by plotting the histogram of the target variables:"
      ],
      "metadata": {
        "id": "VaeV8Nqzjd6D"
      }
    },
    {
      "cell_type": "code",
      "source": [
        "sns.histplot(np.argmax(Y_train,axis=1))"
      ],
      "metadata": {
        "id": "4JTkOAmpRGKT",
        "colab": {
          "base_uri": "https://localhost:8080/",
          "height": 448
        },
        "outputId": "73e2c57d-3233-426b-de76-a100d43bcd47"
      },
      "execution_count": 31,
      "outputs": [
        {
          "output_type": "execute_result",
          "data": {
            "text/plain": [
              "<Axes: ylabel='Count'>"
            ]
          },
          "metadata": {},
          "execution_count": 31
        },
        {
          "output_type": "display_data",
          "data": {
            "text/plain": [
              "<Figure size 640x480 with 1 Axes>"
            ],
            "image/png": "[encoded data removed]"
          },
          "metadata": {}
        }
      ]
    },
    {
      "cell_type": "markdown",
      "source": [
        "## 3.2. Data exploration: input variables - exercise 2\n",
        "And now let's select one instance from each class and plot the corresponding timeseries:"
      ],
      "metadata": {
        "id": "rVeZhkJ-RB4_"
      }
    },
    {
      "cell_type": "code",
      "source": [
        "fig, axs = plt.subplots(nrows=2, ncols=3, figsize=(12, 6))\n",
        "\n",
        "for i in range(2): # row\n",
        "  for k in range(3): # column\n",
        "    for l in range(X_train.shape[2]): # dimensons to be displayed\n",
        "      class_no=i*2+k\n",
        "      axs[i,k].plot(X_train[class_no, l, :])\n",
        "      axs[i,k].title.set_text(\"Class \"+str(class_no))\n",
        "plt.legend()"
      ],
      "metadata": {
        "id": "C_wmgDBDWpFi",
        "colab": {
          "base_uri": "https://localhost:8080/",
          "height": 601
        },
        "outputId": "7ee0a175-10c4-4911-9af9-2684b6c9ddb5"
      },
      "execution_count": 32,
      "outputs": [
        {
          "output_type": "stream",
          "name": "stderr",
          "text": [
            "WARNING:matplotlib.legend:No artists with labels found to put in legend.  Note that artists whose label start with an underscore are ignored when legend() is called with no argument.\n"
          ]
        },
        {
          "output_type": "execute_result",
          "data": {
            "text/plain": [
              "<matplotlib.legend.Legend at 0x7bb6ac5e1db0>"
            ]
          },
          "metadata": {},
          "execution_count": 32
        },
        {
          "output_type": "display_data",
          "data": {
            "text/plain": [
              "<Figure size 1200x600 with 6 Axes>"
            ],
            "image/png": "[encoded data removed]"
          },
          "metadata": {}
        }
      ]
    },
    {
      "cell_type": "markdown",
      "metadata": {
        "id": "LB0t_uW4XK2z"
      },
      "source": [
        "## 4. Model definition and training - exercise 3"
      ]
    },
    {
      "cell_type": "markdown",
      "metadata": {
        "id": "U04cYnapXK26"
      },
      "source": [
        "Let's define and train a 1D convolutional neural network, with the multidimensional timeseries as inputs, and the class in one-hot encoding as output.\n",
        "\n",
        "This time your task is to correct the code below and achieve higher than 90% validation accuracy and test accuracy. The test accuracy is calculated in section 5.\n",
        "Currently, **there are many errors (both syntactical and theroetical) in the model definition, compile and fit parts**, that should be fixed to achieve the goal. Don't change the number of layers and the layer types, and validation_split, just the other hyperparameters. There are several good solutions!\n",
        "\n",
        "Hints:\n",
        "* use narrow and deep Conv1D kernels\n",
        "* use standard activation functions for the inner layers (e.g. relu, sigmoid, tanh) with the corresponding initialization method\n",
        "* use the appropriate activation function the output and the corresponding loss function (which is aligned with the classification task)\n",
        "* use regularization, but not too agressive\n",
        "* use standard optimizers\n",
        "* train in mini-batches"
      ]
    },
    {
      "cell_type": "code",
      "source": [
        "nb_filter       = 32   # number of filter/kernels in the convolutional layers\n",
        "filter_length   = 3  # length of the filter/kernel in the convolutional layers\n",
        "window_size     = X_train.shape[1] # the window size defined by the dataset\n",
        "nb_features     = X_train.shape[2] # the number of features of the input data\n",
        "nb_outputs      = Y_train.shape[1] # the number of outputs (defined by the target data)"
      ],
      "metadata": {
        "id": "Yokac5NUR003"
      },
      "execution_count": 33,
      "outputs": []
    },
    {
      "cell_type": "code",
      "source": [
        "model = Sequential()\n",
        "model.add(Conv1D(filters=nb_filter, kernel_size=filter_length, activation='relu', kernel_initializer='he_normal', input_shape=(window_size, nb_features)))\n",
        "model.add(MaxPooling1D())\n",
        "model.add(Dropout(0.5))\n",
        "model.add(Conv1D(filters=nb_filter, kernel_size=filter_length, activation='relu', kernel_initializer='he_normal'))\n",
        "model.add(MaxPooling1D())\n",
        "model.add(Dropout(0.5))\n",
        "model.add(Flatten())\n",
        "model.add(Dense(128, activation='relu'))\n",
        "model.add(Dropout(0.5))\n",
        "model.add(Dense(nb_outputs, activation='softmax'))"
      ],
      "metadata": {
        "id": "N3h94EJTRxSy"
      },
      "execution_count": 34,
      "outputs": []
    },
    {
      "cell_type": "markdown",
      "source": [
        "Compiling the model with the appropriate loss function for multiclass classification."
      ],
      "metadata": {
        "id": "CxUOZGFVWZik"
      }
    },
    {
      "cell_type": "code",
      "source": [
        "model.compile(loss='categorical_crossentropy', optimizer='adam', metrics=['accuracy'])"
      ],
      "metadata": {
        "id": "kJ5dVKuzSh-U"
      },
      "execution_count": 35,
      "outputs": []
    },
    {
      "cell_type": "code",
      "source": [
        "model.summary()"
      ],
      "metadata": {
        "id": "692uD8KASsi6",
        "colab": {
          "base_uri": "https://localhost:8080/"
        },
        "outputId": "7b089421-8633-4933-aee8-5c2df2515fea"
      },
      "execution_count": 36,
      "outputs": [
        {
          "output_type": "stream",
          "name": "stdout",
          "text": [
            "Model: \"sequential_1\"\n",
            "_________________________________________________________________\n",
            " Layer (type)                Output Shape              Param #   \n",
            "=================================================================\n",
            " conv1d_2 (Conv1D)           (None, 126, 32)           896       \n",
            "                                                                 \n",
            " max_pooling1d_2 (MaxPoolin  (None, 63, 32)            0         \n",
            " g1D)                                                            \n",
            "                                                                 \n",
            " dropout_3 (Dropout)         (None, 63, 32)            0         \n",
            "                                                                 \n",
            " conv1d_3 (Conv1D)           (None, 61, 32)            3104      \n",
            "                                                                 \n",
            " max_pooling1d_3 (MaxPoolin  (None, 30, 32)            0         \n",
            " g1D)                                                            \n",
            "                                                                 \n",
            " dropout_4 (Dropout)         (None, 30, 32)            0         \n",
            "                                                                 \n",
            " flatten_1 (Flatten)         (None, 960)               0         \n",
            "                                                                 \n",
            " dense_2 (Dense)             (None, 128)               123008    \n",
            "                                                                 \n",
            " dropout_5 (Dropout)         (None, 128)               0         \n",
            "                                                                 \n",
            " dense_3 (Dense)             (None, 6)                 774       \n",
            "                                                                 \n",
            "=================================================================\n",
            "Total params: 127782 (499.15 KB)\n",
            "Trainable params: 127782 (499.15 KB)\n",
            "Non-trainable params: 0 (0.00 Byte)\n",
            "_________________________________________________________________\n"
          ]
        }
      ]
    },
    {
      "cell_type": "code",
      "source": [
        "es = EarlyStopping(patience=10, restore_best_weights=True, monitor=\"val_loss\")"
      ],
      "metadata": {
        "id": "F2K-4bVKSz85"
      },
      "execution_count": 37,
      "outputs": []
    },
    {
      "cell_type": "markdown",
      "source": [
        "And now we run the training:"
      ],
      "metadata": {
        "id": "0cT9S6rrbTFk"
      }
    },
    {
      "cell_type": "code",
      "source": [
        "model.fit(X_train, Y_train,\n",
        "          epochs=200, batch_size=32,\n",
        "          validation_split=0.2, # don't change the validation split\n",
        "          callbacks=[es],\n",
        "          verbose=2)"
      ],
      "metadata": {
        "id": "JSeo-uv2SnAj",
        "colab": {
          "base_uri": "https://localhost:8080/"
        },
        "outputId": "894613e8-9a04-40fc-9382-b64f91d4c215"
      },
      "execution_count": 55,
      "outputs": [
        {
          "output_type": "stream",
          "name": "stdout",
          "text": [
            "Epoch 1/200\n",
            "184/184 - 1s - loss: 0.1148 - accuracy: 0.9509 - val_loss: 0.4610 - val_accuracy: 0.8973 - 1s/epoch - 7ms/step\n",
            "Epoch 2/200\n",
            "184/184 - 1s - loss: 0.1117 - accuracy: 0.9483 - val_loss: 0.4615 - val_accuracy: 0.8865 - 1s/epoch - 8ms/step\n",
            "Epoch 3/200\n",
            "184/184 - 2s - loss: 0.1102 - accuracy: 0.9527 - val_loss: 0.4832 - val_accuracy: 0.8953 - 2s/epoch - 10ms/step\n",
            "Epoch 4/200\n",
            "184/184 - 1s - loss: 0.1118 - accuracy: 0.9531 - val_loss: 0.4295 - val_accuracy: 0.8919 - 1s/epoch - 7ms/step\n",
            "Epoch 5/200\n",
            "184/184 - 1s - loss: 0.0992 - accuracy: 0.9531 - val_loss: 0.4722 - val_accuracy: 0.9007 - 1s/epoch - 7ms/step\n",
            "Epoch 6/200\n",
            "184/184 - 1s - loss: 0.0981 - accuracy: 0.9531 - val_loss: 0.4773 - val_accuracy: 0.8885 - 1s/epoch - 7ms/step\n",
            "Epoch 7/200\n",
            "184/184 - 1s - loss: 0.0988 - accuracy: 0.9519 - val_loss: 0.5195 - val_accuracy: 0.8899 - 1s/epoch - 7ms/step\n",
            "Epoch 8/200\n",
            "184/184 - 1s - loss: 0.0924 - accuracy: 0.9554 - val_loss: 0.5100 - val_accuracy: 0.8953 - 1s/epoch - 7ms/step\n",
            "Epoch 9/200\n",
            "184/184 - 1s - loss: 0.0984 - accuracy: 0.9570 - val_loss: 0.5037 - val_accuracy: 0.9123 - 1s/epoch - 7ms/step\n",
            "Epoch 10/200\n",
            "184/184 - 1s - loss: 0.0893 - accuracy: 0.9561 - val_loss: 0.5578 - val_accuracy: 0.9096 - 1s/epoch - 8ms/step\n",
            "Epoch 11/200\n",
            "184/184 - 1s - loss: 0.0940 - accuracy: 0.9548 - val_loss: 0.5215 - val_accuracy: 0.8776 - 1s/epoch - 7ms/step\n",
            "Epoch 12/200\n",
            "184/184 - 2s - loss: 0.0915 - accuracy: 0.9554 - val_loss: 0.5986 - val_accuracy: 0.8987 - 2s/epoch - 9ms/step\n",
            "Epoch 13/200\n",
            "184/184 - 1s - loss: 0.0876 - accuracy: 0.9566 - val_loss: 0.5233 - val_accuracy: 0.9123 - 1s/epoch - 7ms/step\n",
            "Epoch 14/200\n",
            "184/184 - 1s - loss: 0.0932 - accuracy: 0.9566 - val_loss: 0.6198 - val_accuracy: 0.9096 - 1s/epoch - 6ms/step\n"
          ]
        },
        {
          "output_type": "execute_result",
          "data": {
            "text/plain": [
              "<keras.src.callbacks.History at 0x7bb6c357b130>"
            ]
          },
          "metadata": {},
          "execution_count": 55
        }
      ]
    },
    {
      "cell_type": "markdown",
      "metadata": {
        "id": "qXM0IetJSpKM"
      },
      "source": [
        "## 5. Evaluation\n",
        "Please run the cells below to check the test loss and test accuracy (remember, the accuracy must be over 90%) and inspect the other evaluation methods as well."
      ]
    },
    {
      "cell_type": "code",
      "source": [
        "eval = model.evaluate(X_test,Y_test)\n",
        "print(\"Test loss:\",eval[0])\n",
        "print(\"Test accuracy:\",eval[1])"
      ],
      "metadata": {
        "id": "7sR4-0Rkaz1-",
        "colab": {
          "base_uri": "https://localhost:8080/"
        },
        "outputId": "a53999c7-f987-4bef-fd41-15012533d40d"
      },
      "execution_count": 51,
      "outputs": [
        {
          "output_type": "stream",
          "name": "stdout",
          "text": [
            "93/93 [==============================] - 0s 4ms/step - loss: 0.4662 - accuracy: 0.9067\n",
            "Test loss: 0.4662006199359894\n",
            "Test accuracy: 0.9066847562789917\n"
          ]
        }
      ]
    },
    {
      "cell_type": "code",
      "source": [
        "from sklearn.metrics import confusion_matrix, classification_report"
      ],
      "metadata": {
        "id": "WJDwjNkAaS8n"
      },
      "execution_count": 52,
      "outputs": []
    },
    {
      "cell_type": "code",
      "source": [
        "preds = model.predict(X_test)"
      ],
      "metadata": {
        "id": "rkIBcKY9aMdp",
        "colab": {
          "base_uri": "https://localhost:8080/"
        },
        "outputId": "aa6ebfc0-3685-4c58-a76c-cc833d0b3a68"
      },
      "execution_count": 53,
      "outputs": [
        {
          "output_type": "stream",
          "name": "stdout",
          "text": [
            "93/93 [==============================] - 0s 3ms/step\n"
          ]
        }
      ]
    },
    {
      "cell_type": "code",
      "source": [
        "print(classification_report(np.argmax(Y_test,1),np.argmax(preds,1)))"
      ],
      "metadata": {
        "id": "zrWe3vPJaZ3v",
        "colab": {
          "base_uri": "https://localhost:8080/"
        },
        "outputId": "52e29df1-f8ef-4e2f-8ac9-2b04085420d1"
      },
      "execution_count": 54,
      "outputs": [
        {
          "output_type": "stream",
          "name": "stdout",
          "text": [
            "              precision    recall  f1-score   support\n",
            "\n",
            "           0       1.00      0.87      0.93       496\n",
            "           1       0.84      0.94      0.89       471\n",
            "           2       0.87      0.99      0.92       420\n",
            "           3       0.88      0.81      0.84       491\n",
            "           4       0.87      0.89      0.88       532\n",
            "           5       1.00      0.95      0.98       537\n",
            "\n",
            "    accuracy                           0.91      2947\n",
            "   macro avg       0.91      0.91      0.91      2947\n",
            "weighted avg       0.91      0.91      0.91      2947\n",
            "\n"
          ]
        }
      ]
    },
    {
      "cell_type": "code",
      "source": [
        "conf=confusion_matrix(np.argmax(Y_test,1),np.argmax(preds,1))\n",
        "sns.heatmap(conf, annot=True, fmt='d', vmax=100)"
      ],
      "metadata": {
        "id": "kRdfXOypaciv",
        "colab": {
          "base_uri": "https://localhost:8080/",
          "height": 453
        },
        "outputId": "ae2018db-3792-458c-8ad7-33d792559f85"
      },
      "execution_count": 49,
      "outputs": [
        {
          "output_type": "execute_result",
          "data": {
            "text/plain": [
              "<Axes: >"
            ]
          },
          "metadata": {},
          "execution_count": 49
        },
        {
          "output_type": "display_data",
          "data": {
            "text/plain": [
              "<Figure size 640x480 with 2 Axes>"
            ],
            "image/png": "[encoded data removed]"
          },
          "metadata": {}
        }
      ]
    }
  ]
}