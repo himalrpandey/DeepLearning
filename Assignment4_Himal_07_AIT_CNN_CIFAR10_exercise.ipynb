{
  "nbformat": 4,
  "nbformat_minor": 0,
  "metadata": {
    "anaconda-cloud": {},
    "kernelspec": {
      "display_name": "Python 3",
      "language": "python",
      "name": "python3"
    },
    "language_info": {
      "codemirror_mode": {
        "name": "ipython",
        "version": 3
      },
      "file_extension": ".py",
      "mimetype": "text/x-python",
      "name": "python",
      "nbconvert_exporter": "python",
      "pygments_lexer": "ipython3",
      "version": "3.6.6"
    },
    "colab": {
      "provenance": [],
      "include_colab_link": true
    },
    "accelerator": "GPU"
  },
  "cells": [
    {
      "cell_type": "markdown",
      "metadata": {
        "id": "view-in-github",
        "colab_type": "text"
      },
      "source": [
        "<a href=\"https://colab.research.google.com/github/himalrpandey/DeepLearning/blob/main/Assignment4_Himal_07_AIT_CNN_CIFAR10_exercise.ipynb\" target=\"_parent\"><img src=\"https://colab.research.google.com/assets/colab-badge.svg\" alt=\"Open In Colab\"/></a>"
      ]
    },
    {
      "cell_type": "markdown",
      "metadata": {
        "id": "cW-EyI5Lxpqi"
      },
      "source": [
        "# Copyright\n",
        "\n",
        "<PRE>\n",
        "Copyright (c) 2024 Bálint Gyires-Tóth - All Rights Reserved\n",
        "You may use and modify this code for research and development purpuses.\n",
        "Using this code for educational purposes (self-paced or instructor led) without the permission of the author is prohibited.\n",
        "</PRE>"
      ]
    },
    {
      "cell_type": "markdown",
      "source": [
        "# Convolutional Neural Network exercise\n",
        "\n",
        "In this notebook, you will build a convolutional neural network, which offers superior results over the previous MLP solution. Additionally, you will perform a more detailed evaluation."
      ],
      "metadata": {
        "id": "3EX4cCa4WKJu"
      }
    },
    {
      "cell_type": "code",
      "source": [
        "# imports\n",
        "from tensorflow.keras.datasets import cifar10\n",
        "from tensorflow.keras.utils import to_categorical\n",
        "import numpy as np\n",
        "import matplotlib.pyplot as plt\n",
        "from tensorflow.keras.models import Sequential\n",
        "from tensorflow.keras.layers import Dense, Conv2D, MaxPool2D, Flatten, Dropout, BatchNormalization\n",
        "from tensorflow.keras.initializers import HeNormal\n",
        "from tensorflow.keras.callbacks import EarlyStopping"
      ],
      "metadata": {
        "id": "GdCMhy4HA2qd"
      },
      "execution_count": 1,
      "outputs": []
    },
    {
      "cell_type": "markdown",
      "source": [
        "# 1. Data\n",
        "The dataset we will use is the well-known CIFAR10 (Canadian Institute For Advanced Research). Explore the details on the Keras website first: https://keras.io/api/datasets/cifar10/\n",
        "\n",
        "There isn't much difference between the data preprocessing part and the one we did before. The only difference is that we don't have to reshape images into vectors, but we are working with a 4 dimensional data structure, where the dimensions are: batch, X, Y, and color channels.\n",
        "\n",
        "In the event that anything is not clear regarding the data preparation part, please check the previous CIFAR10 notebook."
      ],
      "metadata": {
        "id": "yY9fztIeWIKt"
      }
    },
    {
      "cell_type": "code",
      "source": [
        "(X_train, Y_train), (X_test, Y_test) = cifar10.load_data()"
      ],
      "metadata": {
        "id": "bez7q0eiWQCK",
        "colab": {
          "base_uri": "https://localhost:8080/"
        },
        "outputId": "19d40939-edf4-406f-e058-12fe51f8bdea"
      },
      "execution_count": 2,
      "outputs": [
        {
          "output_type": "stream",
          "name": "stdout",
          "text": [
            "Downloading data from https://www.cs.toronto.edu/~kriz/cifar-10-python.tar.gz\n",
            "170498071/170498071 [==============================] - 13s 0us/step\n"
          ]
        }
      ]
    },
    {
      "cell_type": "code",
      "source": [
        "# it is in int8 format, the neural network requires float32\n",
        "X_train = X_train.astype(\"float32\")\n",
        "X_test = X_test.astype(\"float32\")"
      ],
      "metadata": {
        "id": "vukOcBM0XzSj"
      },
      "execution_count": 3,
      "outputs": []
    },
    {
      "cell_type": "code",
      "source": [
        "train_ratio  = 0.8\n",
        "train_length = X_train.shape[0]\n",
        "train_split  = int(train_ratio*train_length)\n",
        "X_valid, Y_valid = X_train[train_split:], Y_train[train_split:]\n",
        "X_train, Y_train = X_train[:train_split], Y_train[:train_split]"
      ],
      "metadata": {
        "id": "mRwuWxxIxLgN"
      },
      "execution_count": 4,
      "outputs": []
    },
    {
      "cell_type": "code",
      "source": [
        "mean = X_train.mean(axis=0)\n",
        "std  = X_train.std(axis=0)\n",
        "\n",
        "X_train = (X_train-mean)/std\n",
        "X_valid = (X_valid-mean)/std\n",
        "X_test  = (X_test-mean)/std"
      ],
      "metadata": {
        "id": "2ESLP1EIyB2J"
      },
      "execution_count": 5,
      "outputs": []
    },
    {
      "cell_type": "code",
      "source": [
        "nb_classes = len(np.unique(Y_train))\n",
        "Y_train = to_categorical(Y_train, nb_classes)\n",
        "Y_valid = to_categorical(Y_valid, nb_classes)\n",
        "Y_test  = to_categorical(Y_test, nb_classes)"
      ],
      "metadata": {
        "id": "xwZ4OJ6I8lba"
      },
      "execution_count": 6,
      "outputs": []
    },
    {
      "cell_type": "code",
      "source": [
        "print(\"Shapes of the training, validation and test input data:\", X_train.shape, X_valid.shape, X_test.shape)\n",
        "print(\"Shapes of the training, validation and test output data:\", Y_train.shape, Y_valid.shape, Y_test.shape)\n",
        "print(\"Mean values of the training, validation and test input data:\", X_train.mean(), X_valid.mean(), X_test.mean())\n",
        "print(\"Standard deviation of the training, validation and test input data:\", X_train.std(), X_valid.std(), X_test.std())"
      ],
      "metadata": {
        "id": "O_jdJVcvX0vi",
        "colab": {
          "base_uri": "https://localhost:8080/"
        },
        "outputId": "9071d778-9901-4fa0-91fc-9d1286db40ec"
      },
      "execution_count": 7,
      "outputs": [
        {
          "output_type": "stream",
          "name": "stdout",
          "text": [
            "Shapes of the training, validation and test input data: (40000, 32, 32, 3) (10000, 32, 32, 3) (10000, 32, 32, 3)\n",
            "Shapes of the training, validation and test output data: (40000, 10) (10000, 10) (10000, 10)\n",
            "Mean values of the training, validation and test input data: 2.2788842e-09 0.0023437198 0.013331206\n",
            "Standard deviation of the training, validation and test input data: 1.0000023 0.9965626 0.99783075\n"
          ]
        }
      ]
    },
    {
      "cell_type": "markdown",
      "metadata": {
        "id": "cJ14oyZExpqj"
      },
      "source": [
        "# 2. Exercise: training"
      ]
    },
    {
      "cell_type": "markdown",
      "source": [
        "Create and train a convolutional neural network with the following requirements:\n",
        "* apply early stopping with patience=5 and monitor the validation accuracy, don't forget to load back the best weights after early stopping\n",
        "* the number of trainable parameters is lower than 200.000\n",
        "* the validation accuracy must be higher than 72%\n",
        "\n",
        "Hints:\n",
        "* you can always inspect the number of trainable parameters per layer with model.summary()\n",
        "* usually the most trainable parameters are between the last convolutional layer and the next dense layer -- so you should have a reasonable output size at the last convolutional layer\n",
        "* regularization helps (e.g. DropOut and/or BatchNormalization)\n",
        "* use the right activation function at the output layer and the corresponding loss function\n",
        "* for the chosen activation functions, please use the appropriate initialization method\n",
        "* you can match the dimension of the last conv/pooling layer to the next dense layer with e.g. Flatten()\n",
        "* ADAM optimizer is a reasonable choice\n",
        "* don't forget to turn on GPU support in Colab, otherwise, it would be quite slow to train the networks\n",
        "\n"
      ],
      "metadata": {
        "id": "j1tGVPdD-pp3"
      }
    },
    {
      "cell_type": "code",
      "source": [
        "es = EarlyStopping(monitor='val_accuracy', patience=5, restore_best_weights=True) # early stopping"
      ],
      "metadata": {
        "id": "5dBQxJHIHrbd"
      },
      "execution_count": 8,
      "outputs": []
    },
    {
      "cell_type": "code",
      "source": [
        "# model definition\n",
        "model = Sequential([\n",
        "    Conv2D(32, kernel_size=(3, 3), activation='relu', kernel_initializer=HeNormal(), input_shape=(32, 32, 3)),\n",
        "    BatchNormalization(),\n",
        "    MaxPool2D(pool_size=(2, 2)),\n",
        "    Dropout(0.2),\n",
        "\n",
        "    Conv2D(48, (3, 3), activation='relu', kernel_initializer=HeNormal()),\n",
        "    BatchNormalization(),\n",
        "    MaxPool2D(pool_size=(2, 2)),\n",
        "    Dropout(0.3),\n",
        "\n",
        "    Flatten(),\n",
        "    Dense(64, activation='relu', kernel_initializer=HeNormal()),\n",
        "    Dropout(0.4),\n",
        "    Dense(10, activation='softmax')\n",
        "])\n",
        "\n",
        "\n",
        "# loss function and optimizer\n",
        "model.compile(optimizer='adam', loss='categorical_crossentropy', metrics=['accuracy'])"
      ],
      "metadata": {
        "id": "PuxHOqLt-3Nd"
      },
      "execution_count": 9,
      "outputs": []
    },
    {
      "cell_type": "code",
      "source": [
        "model.summary()"
      ],
      "metadata": {
        "id": "5eomQw8uE9Ix",
        "colab": {
          "base_uri": "https://localhost:8080/"
        },
        "outputId": "0650446c-6006-440d-c2da-4d18e49c0365"
      },
      "execution_count": 10,
      "outputs": [
        {
          "output_type": "stream",
          "name": "stdout",
          "text": [
            "Model: \"sequential\"\n",
            "_________________________________________________________________\n",
            " Layer (type)                Output Shape              Param #   \n",
            "=================================================================\n",
            " conv2d (Conv2D)             (None, 30, 30, 32)        896       \n",
            "                                                                 \n",
            " batch_normalization (Batch  (None, 30, 30, 32)        128       \n",
            " Normalization)                                                  \n",
            "                                                                 \n",
            " max_pooling2d (MaxPooling2  (None, 15, 15, 32)        0         \n",
            " D)                                                              \n",
            "                                                                 \n",
            " dropout (Dropout)           (None, 15, 15, 32)        0         \n",
            "                                                                 \n",
            " conv2d_1 (Conv2D)           (None, 13, 13, 48)        13872     \n",
            "                                                                 \n",
            " batch_normalization_1 (Bat  (None, 13, 13, 48)        192       \n",
            " chNormalization)                                                \n",
            "                                                                 \n",
            " max_pooling2d_1 (MaxPoolin  (None, 6, 6, 48)          0         \n",
            " g2D)                                                            \n",
            "                                                                 \n",
            " dropout_1 (Dropout)         (None, 6, 6, 48)          0         \n",
            "                                                                 \n",
            " flatten (Flatten)           (None, 1728)              0         \n",
            "                                                                 \n",
            " dense (Dense)               (None, 64)                110656    \n",
            "                                                                 \n",
            " dropout_2 (Dropout)         (None, 64)                0         \n",
            "                                                                 \n",
            " dense_1 (Dense)             (None, 10)                650       \n",
            "                                                                 \n",
            "=================================================================\n",
            "Total params: 126394 (493.73 KB)\n",
            "Trainable params: 126234 (493.10 KB)\n",
            "Non-trainable params: 160 (640.00 Byte)\n",
            "_________________________________________________________________\n"
          ]
        }
      ]
    },
    {
      "cell_type": "markdown",
      "source": [
        "Please, check the number of trainable paramers:"
      ],
      "metadata": {
        "id": "8tIbIIeTEI41"
      }
    },
    {
      "cell_type": "code",
      "source": [
        "print(\"#trainable parameters:\",model.count_params())"
      ],
      "metadata": {
        "id": "xdBAG7EJETlX",
        "colab": {
          "base_uri": "https://localhost:8080/"
        },
        "outputId": "a1bd80a9-b2fb-4e34-acb2-2716b41ae6d9"
      },
      "execution_count": 11,
      "outputs": [
        {
          "output_type": "stream",
          "name": "stdout",
          "text": [
            "#trainable parameters: 126394\n"
          ]
        }
      ]
    },
    {
      "cell_type": "code",
      "source": [
        "# training\n",
        "network_history = model.fit(X_train, Y_train,\n",
        "                            epochs=50,\n",
        "                            batch_size=70,\n",
        "                            validation_data=(X_valid, Y_valid),\n",
        "                            callbacks=[es])"
      ],
      "metadata": {
        "id": "u8tFNCNVHyt9",
        "colab": {
          "base_uri": "https://localhost:8080/"
        },
        "outputId": "b5c9e387-f123-48c5-ba1d-667c7e2dab94"
      },
      "execution_count": 12,
      "outputs": [
        {
          "output_type": "stream",
          "name": "stdout",
          "text": [
            "Epoch 1/50\n",
            "572/572 [==============================] - 11s 8ms/step - loss: 1.8600 - accuracy: 0.3218 - val_loss: 1.4123 - val_accuracy: 0.4791\n",
            "Epoch 2/50\n",
            "572/572 [==============================] - 4s 7ms/step - loss: 1.5131 - accuracy: 0.4444 - val_loss: 1.2470 - val_accuracy: 0.5545\n",
            "Epoch 3/50\n",
            "572/572 [==============================] - 3s 6ms/step - loss: 1.3699 - accuracy: 0.5090 - val_loss: 1.0974 - val_accuracy: 0.6104\n",
            "Epoch 4/50\n",
            "572/572 [==============================] - 5s 9ms/step - loss: 1.2643 - accuracy: 0.5482 - val_loss: 1.0605 - val_accuracy: 0.6223\n",
            "Epoch 5/50\n",
            "572/572 [==============================] - 7s 12ms/step - loss: 1.2000 - accuracy: 0.5752 - val_loss: 1.0049 - val_accuracy: 0.6446\n",
            "Epoch 6/50\n",
            "572/572 [==============================] - 6s 10ms/step - loss: 1.1447 - accuracy: 0.5933 - val_loss: 0.9889 - val_accuracy: 0.6495\n",
            "Epoch 7/50\n",
            "572/572 [==============================] - 6s 11ms/step - loss: 1.1045 - accuracy: 0.6094 - val_loss: 0.9315 - val_accuracy: 0.6737\n",
            "Epoch 8/50\n",
            "572/572 [==============================] - 4s 7ms/step - loss: 1.0804 - accuracy: 0.6182 - val_loss: 0.9055 - val_accuracy: 0.6877\n",
            "Epoch 9/50\n",
            "572/572 [==============================] - 4s 6ms/step - loss: 1.0418 - accuracy: 0.6321 - val_loss: 0.8928 - val_accuracy: 0.6860\n",
            "Epoch 10/50\n",
            "572/572 [==============================] - 5s 9ms/step - loss: 1.0150 - accuracy: 0.6436 - val_loss: 0.8730 - val_accuracy: 0.6921\n",
            "Epoch 11/50\n",
            "572/572 [==============================] - 5s 9ms/step - loss: 0.9926 - accuracy: 0.6508 - val_loss: 0.8443 - val_accuracy: 0.7049\n",
            "Epoch 12/50\n",
            "572/572 [==============================] - 8s 14ms/step - loss: 0.9635 - accuracy: 0.6633 - val_loss: 0.8287 - val_accuracy: 0.7105\n",
            "Epoch 13/50\n",
            "572/572 [==============================] - 6s 10ms/step - loss: 0.9482 - accuracy: 0.6662 - val_loss: 0.8360 - val_accuracy: 0.7083\n",
            "Epoch 14/50\n",
            "572/572 [==============================] - 5s 9ms/step - loss: 0.9292 - accuracy: 0.6741 - val_loss: 0.8208 - val_accuracy: 0.7128\n",
            "Epoch 15/50\n",
            "572/572 [==============================] - 3s 6ms/step - loss: 0.9174 - accuracy: 0.6762 - val_loss: 0.8071 - val_accuracy: 0.7213\n",
            "Epoch 16/50\n",
            "572/572 [==============================] - 3s 6ms/step - loss: 0.9025 - accuracy: 0.6831 - val_loss: 0.7864 - val_accuracy: 0.7244\n",
            "Epoch 17/50\n",
            "572/572 [==============================] - 4s 7ms/step - loss: 0.8911 - accuracy: 0.6860 - val_loss: 0.8129 - val_accuracy: 0.7191\n",
            "Epoch 18/50\n",
            "572/572 [==============================] - 3s 6ms/step - loss: 0.8787 - accuracy: 0.6901 - val_loss: 0.8024 - val_accuracy: 0.7260\n",
            "Epoch 19/50\n",
            "572/572 [==============================] - 4s 7ms/step - loss: 0.8719 - accuracy: 0.6954 - val_loss: 0.7920 - val_accuracy: 0.7245\n",
            "Epoch 20/50\n",
            "572/572 [==============================] - 4s 7ms/step - loss: 0.8681 - accuracy: 0.6966 - val_loss: 0.7902 - val_accuracy: 0.7302\n",
            "Epoch 21/50\n",
            "572/572 [==============================] - 3s 6ms/step - loss: 0.8554 - accuracy: 0.6991 - val_loss: 0.7832 - val_accuracy: 0.7298\n",
            "Epoch 22/50\n",
            "572/572 [==============================] - 3s 6ms/step - loss: 0.8486 - accuracy: 0.7006 - val_loss: 0.7759 - val_accuracy: 0.7312\n",
            "Epoch 23/50\n",
            "572/572 [==============================] - 4s 6ms/step - loss: 0.8439 - accuracy: 0.7025 - val_loss: 0.7622 - val_accuracy: 0.7398\n",
            "Epoch 24/50\n",
            "572/572 [==============================] - 4s 6ms/step - loss: 0.8340 - accuracy: 0.7065 - val_loss: 0.7538 - val_accuracy: 0.7386\n",
            "Epoch 25/50\n",
            "572/572 [==============================] - 4s 7ms/step - loss: 0.8280 - accuracy: 0.7108 - val_loss: 0.7757 - val_accuracy: 0.7370\n",
            "Epoch 26/50\n",
            "572/572 [==============================] - 3s 6ms/step - loss: 0.8152 - accuracy: 0.7126 - val_loss: 0.7672 - val_accuracy: 0.7362\n",
            "Epoch 27/50\n",
            "572/572 [==============================] - 4s 7ms/step - loss: 0.8131 - accuracy: 0.7119 - val_loss: 0.7602 - val_accuracy: 0.7387\n",
            "Epoch 28/50\n",
            "572/572 [==============================] - 4s 7ms/step - loss: 0.8143 - accuracy: 0.7133 - val_loss: 0.7537 - val_accuracy: 0.7426\n",
            "Epoch 29/50\n",
            "572/572 [==============================] - 3s 6ms/step - loss: 0.8048 - accuracy: 0.7184 - val_loss: 0.7500 - val_accuracy: 0.7448\n",
            "Epoch 30/50\n",
            "572/572 [==============================] - 4s 7ms/step - loss: 0.7959 - accuracy: 0.7170 - val_loss: 0.7697 - val_accuracy: 0.7359\n",
            "Epoch 31/50\n",
            "572/572 [==============================] - 3s 6ms/step - loss: 0.8044 - accuracy: 0.7182 - val_loss: 0.7562 - val_accuracy: 0.7419\n",
            "Epoch 32/50\n",
            "572/572 [==============================] - 3s 6ms/step - loss: 0.7945 - accuracy: 0.7189 - val_loss: 0.7642 - val_accuracy: 0.7386\n",
            "Epoch 33/50\n",
            "572/572 [==============================] - 4s 7ms/step - loss: 0.7803 - accuracy: 0.7259 - val_loss: 0.8098 - val_accuracy: 0.7304\n",
            "Epoch 34/50\n",
            "572/572 [==============================] - 4s 7ms/step - loss: 0.7833 - accuracy: 0.7251 - val_loss: 0.7413 - val_accuracy: 0.7481\n",
            "Epoch 35/50\n",
            "572/572 [==============================] - 4s 7ms/step - loss: 0.7826 - accuracy: 0.7229 - val_loss: 0.7550 - val_accuracy: 0.7437\n",
            "Epoch 36/50\n",
            "572/572 [==============================] - 4s 7ms/step - loss: 0.7746 - accuracy: 0.7263 - val_loss: 0.7299 - val_accuracy: 0.7488\n",
            "Epoch 37/50\n",
            "572/572 [==============================] - 4s 6ms/step - loss: 0.7642 - accuracy: 0.7302 - val_loss: 0.7319 - val_accuracy: 0.7543\n",
            "Epoch 38/50\n",
            "572/572 [==============================] - 3s 6ms/step - loss: 0.7661 - accuracy: 0.7300 - val_loss: 0.7434 - val_accuracy: 0.7475\n",
            "Epoch 39/50\n",
            "572/572 [==============================] - 4s 7ms/step - loss: 0.7667 - accuracy: 0.7297 - val_loss: 0.7416 - val_accuracy: 0.7497\n",
            "Epoch 40/50\n",
            "572/572 [==============================] - 4s 7ms/step - loss: 0.7623 - accuracy: 0.7306 - val_loss: 0.7181 - val_accuracy: 0.7561\n",
            "Epoch 41/50\n",
            "572/572 [==============================] - 4s 7ms/step - loss: 0.7573 - accuracy: 0.7307 - val_loss: 0.7225 - val_accuracy: 0.7526\n",
            "Epoch 42/50\n",
            "572/572 [==============================] - 3s 6ms/step - loss: 0.7476 - accuracy: 0.7341 - val_loss: 0.7367 - val_accuracy: 0.7483\n",
            "Epoch 43/50\n",
            "572/572 [==============================] - 4s 7ms/step - loss: 0.7501 - accuracy: 0.7341 - val_loss: 0.7105 - val_accuracy: 0.7598\n",
            "Epoch 44/50\n",
            "572/572 [==============================] - 3s 6ms/step - loss: 0.7502 - accuracy: 0.7343 - val_loss: 0.7188 - val_accuracy: 0.7553\n",
            "Epoch 45/50\n",
            "572/572 [==============================] - 4s 7ms/step - loss: 0.7476 - accuracy: 0.7335 - val_loss: 0.7368 - val_accuracy: 0.7496\n",
            "Epoch 46/50\n",
            "572/572 [==============================] - 6s 10ms/step - loss: 0.7437 - accuracy: 0.7356 - val_loss: 0.7454 - val_accuracy: 0.7495\n",
            "Epoch 47/50\n",
            "572/572 [==============================] - 6s 11ms/step - loss: 0.7307 - accuracy: 0.7415 - val_loss: 0.7493 - val_accuracy: 0.7491\n",
            "Epoch 48/50\n",
            "572/572 [==============================] - 6s 11ms/step - loss: 0.7361 - accuracy: 0.7398 - val_loss: 0.7371 - val_accuracy: 0.7506\n"
          ]
        }
      ]
    },
    {
      "cell_type": "markdown",
      "source": [
        "# 3. Exercise: evaluation on test data\n",
        "You will evaluate the classification of the test data using the common metrics and the confusion matrix in this section.\n",
        "\n",
        "\n",
        "As a first stes, let's run the predictions and convert the predicted softmax outputs to dense labels. The one-hot encoded labels are also converted back to dense labels, as they are required for the evaluation functions."
      ],
      "metadata": {
        "id": "2FtKp-a2-A9m"
      }
    },
    {
      "cell_type": "code",
      "source": [
        "probas = model.predict(X_test)\n",
        "preds  = np.argmax(probas,axis=1)\n",
        "Y_test_dense = np.argmax(Y_test, axis=1)"
      ],
      "metadata": {
        "id": "EcWAqwlDMq3y",
        "colab": {
          "base_uri": "https://localhost:8080/"
        },
        "outputId": "4ca68ae1-645c-4b93-c3c6-0fdd8e9416b5"
      },
      "execution_count": 13,
      "outputs": [
        {
          "output_type": "stream",
          "name": "stdout",
          "text": [
            "313/313 [==============================] - 1s 3ms/step\n"
          ]
        }
      ]
    },
    {
      "cell_type": "markdown",
      "source": [
        "## 3.1. Exercise: Metrics\n",
        "please review the common classification metrics (accuracy, precision, recall, F1) for the complete model (not per class).\n",
        "\n",
        "Hints:\n",
        "* use macro averaging\n",
        "* you have to import the right functions from [sklearn.metrics](https://scikit-learn.org/stable/modules/model_evaluation.html)\n"
      ],
      "metadata": {
        "id": "RWJ-PH_iMs9K"
      }
    },
    {
      "cell_type": "markdown",
      "source": [],
      "metadata": {
        "id": "AUQ5rU44W72x"
      }
    },
    {
      "cell_type": "code",
      "source": [
        "from sklearn.metrics import accuracy_score, precision_score, recall_score, f1_score"
      ],
      "metadata": {
        "id": "5sKm5zHSMZ_x"
      },
      "execution_count": 14,
      "outputs": []
    },
    {
      "cell_type": "code",
      "source": [
        "accuracy = accuracy_score(Y_test_dense, preds)\n",
        "precision = precision_score(Y_test_dense, preds, average='macro')\n",
        "recall = recall_score(Y_test_dense, preds, average='macro')\n",
        "f1 = f1_score(Y_test_dense, preds, average='macro')\n",
        "\n",
        "\n",
        "print(\"Accuracy:\", accuracy)\n",
        "print(\"Precision:\", precision)\n",
        "print(\"Recall:\", recall)\n",
        "print(\"F1:\", f1)"
      ],
      "metadata": {
        "id": "I3_9wgDREUna",
        "colab": {
          "base_uri": "https://localhost:8080/"
        },
        "outputId": "55a6c99d-6b47-4fc1-b65b-3290bef0786c"
      },
      "execution_count": 15,
      "outputs": [
        {
          "output_type": "stream",
          "name": "stdout",
          "text": [
            "Accuracy: 0.7519\n",
            "Precision: 0.7488750964078144\n",
            "Recall: 0.7519000000000001\n",
            "F1: 0.7489334251051185\n"
          ]
        }
      ]
    },
    {
      "cell_type": "markdown",
      "source": [
        "\n",
        "## 3.2. Exercise: Confusion matrix\n",
        "Calculate the confusion matrix and display the results in a heatmap (with decimal values).\n",
        "\n",
        "Hints:\n",
        "* you have to do the imports this time too, e.g. from [sklearn.metrics](https://scikit-learn.org/stable/modules/model_evaluation.html) and the [heatmap function](https://seaborn.pydata.org/generated/seaborn.heatmap.html) of [seaborn](https://seaborn.pydata.org/)\n",
        "* for displaying the decimal values, you have to turn annot=True and define fmt='d' in the heatmap function of seaborn"
      ],
      "metadata": {
        "id": "ECHguBFtGL7f"
      }
    },
    {
      "cell_type": "code",
      "source": [
        "from sklearn.metrics import confusion_matrix\n",
        "import seaborn as sns"
      ],
      "metadata": {
        "id": "SIi2VzMBO3yD"
      },
      "execution_count": 16,
      "outputs": []
    },
    {
      "cell_type": "code",
      "metadata": {
        "id": "cdqODx92Svw7",
        "colab": {
          "base_uri": "https://localhost:8080/",
          "height": 564
        },
        "outputId": "35f5a94d-096f-47c3-db18-5aa41103ef80"
      },
      "source": [
        "conf = confusion_matrix(Y_test_dense, preds)\n",
        "plt.figure(figsize=(7,6))\n",
        "sns.heatmap(conf, annot=True, fmt='d', cmap='Reds', cbar=True)\n",
        "plt.xlabel('Predicted labels')\n",
        "plt.ylabel('True labels')\n",
        "plt.title('Confusion Matrix')\n",
        "plt.show()"
      ],
      "execution_count": 21,
      "outputs": [
        {
          "output_type": "display_data",
          "data": {
            "text/plain": [
              "<Figure size 700x600 with 2 Axes>"
            ],
            "image/png": "[encoded data removed]"
          },
          "metadata": {}
        }
      ]
    }
  ]
}